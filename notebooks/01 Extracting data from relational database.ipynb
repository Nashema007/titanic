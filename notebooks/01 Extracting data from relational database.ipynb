{
 "cells": [
  {
   "cell_type": "markdown",
   "metadata": {},
   "source": [
    "# Extracting of data from relational databases"
   ]
  },
  {
   "cell_type": "markdown",
   "metadata": {},
   "source": [
    "## SQLite Database"
   ]
  },
  {
   "cell_type": "markdown",
   "metadata": {},
   "source": [
    "### import package"
   ]
  },
  {
   "cell_type": "code",
   "execution_count": 2,
   "metadata": {},
   "outputs": [],
   "source": [
    "# import sqlite3 package\n",
    "import sqlite3"
   ]
  },
  {
   "cell_type": "code",
   "execution_count": 4,
   "metadata": {},
   "outputs": [],
   "source": [
    "#create a connection to a database: create the database if not available\n",
    "connection = sqlite3.connect(\"classroomDB.db\")\n",
    "connection.close()"
   ]
  },
  {
   "cell_type": "code",
   "execution_count": 7,
   "metadata": {},
   "outputs": [],
   "source": [
    "#open connection\n",
    "connection = sqlite3.connect(\"classroomDB.db\")\n",
    "\n",
    "#open cursor \n",
    "cursor = connection.cursor()\n",
    "#query for creating table\n",
    "create_table=\"\"\"\n",
    "            CREATE TABLE classroom(\n",
    "            student_id INTEGER PRIMARY KEY,\n",
    "            name VARCHAR(20),\n",
    "            gender CHAR(1),\n",
    "            physics_marks INTEGER,\n",
    "            chemisty_marks INTEGER,\n",
    "            mathematics_marks INTEGER);\n",
    "\"\"\"\n",
    "#execute query\n",
    "cursor.execute(create_table)\n",
    "#commit changes\n",
    "connection.commit()\n",
    "#close connection\n",
    "connection.close()"
   ]
  },
  {
   "cell_type": "markdown",
   "metadata": {},
   "source": [
    "### insert data"
   ]
  },
  {
   "cell_type": "code",
   "execution_count": 8,
   "metadata": {},
   "outputs": [],
   "source": [
    "#sample data\n",
    "classroom_data=[(1, \"Raj\", \"M\", 70, 84, 92),\n",
    "                (2, \"Poonam\", \"F\", 87, 69, 93),\n",
    "                (3, \"Nik\", \"M\", 65, 83, 90),\n",
    "                (4, \"Rahul\", \"F\", 83, 76, 89)]\n",
    "#open connection\n",
    "connection = sqlite3.connect(\"classroomDB.db\")\n",
    "#open cursor \n",
    "cursor = connection.cursor()\n",
    "#insert each student record\n",
    "for student in classroom_data:\n",
    "    #formatted query string\n",
    "    insert_statement =\"\"\"INSERT INTO classroom\n",
    "                    (student_id, name, gender, physics_marks, chemisty_marks, mathematics_marks)\n",
    "                    VALUES\n",
    "                    ({0}, \"{1}\", \"{2}\", \"{3}\", \"{4}\",\"{5}\");\n",
    "                    \"\"\".format(student[0], student[1], student[2], student[3], student[4], student[5])\n",
    "    #execute insert query\n",
    "    cursor.execute(insert_statement)\n",
    "    \n",
    "#commit changes\n",
    "connection.commit()\n",
    "#close connection\n",
    "connection.close()\n"
   ]
  },
  {
   "cell_type": "markdown",
   "metadata": {},
   "source": [
    "### extra data "
   ]
  },
  {
   "cell_type": "code",
   "execution_count": 9,
   "metadata": {},
   "outputs": [
    {
     "name": "stdout",
     "output_type": "stream",
     "text": [
      "(1, 'Raj', 'M', 70, 84, 92)\n",
      "(2, 'Poonam', 'F', 87, 69, 93)\n",
      "(3, 'Nik', 'M', 65, 83, 90)\n",
      "(4, 'Rahul', 'F', 83, 76, 89)\n"
     ]
    }
   ],
   "source": [
    "#open connection\n",
    "connection = sqlite3.connect(\"classroomDB.db\")\n",
    "#open cursor \n",
    "cursor = connection.cursor()\n",
    "#query\n",
    "query = \"SELECT * FROM classroom\"\n",
    "#execute query \n",
    "cursor.execute(query)\n",
    "#fetcch results\n",
    "result = cursor.fetchall()\n",
    "#print results\n",
    "for row in result:\n",
    "    print(row)\n",
    "#close connection\n",
    "connection.close()\n"
   ]
  },
  {
   "cell_type": "markdown",
   "metadata": {},
   "source": [
    "# MySQL database"
   ]
  },
  {
   "cell_type": "markdown",
   "metadata": {},
   "source": [
    "### install package"
   ]
  },
  {
   "cell_type": "code",
   "execution_count": 10,
   "metadata": {},
   "outputs": [
    {
     "name": "stdout",
     "output_type": "stream",
     "text": [
      "Collecting package metadata (repodata.json): ...working... done\n",
      "Solving environment: ...working... done\n",
      "\n",
      "## Package Plan ##\n",
      "\n",
      "  environment location: C:\\Users\\Dell\\Anaconda3\n",
      "\n",
      "  added / updated specs:\n",
      "    - pymysql\n",
      "\n",
      "\n",
      "The following packages will be downloaded:\n",
      "\n",
      "    package                    |            build\n",
      "    ---------------------------|-----------------\n",
      "    pymysql-0.9.3              |           py36_0          83 KB\n",
      "    ------------------------------------------------------------\n",
      "                                           Total:          83 KB\n",
      "\n",
      "The following NEW packages will be INSTALLED:\n",
      "\n",
      "  pymysql            pkgs/main/win-64::pymysql-0.9.3-py36_0\n",
      "\n",
      "\n",
      "Preparing transaction: ...working... done\n",
      "Verifying transaction: ...working... done\n",
      "Executing transaction: ...working... done\n"
     ]
    }
   ],
   "source": [
    "!conda install -y -q pymysql"
   ]
  },
  {
   "cell_type": "code",
   "execution_count": 11,
   "metadata": {},
   "outputs": [],
   "source": [
    "import pymysql"
   ]
  },
  {
   "cell_type": "code",
   "execution_count": 14,
   "metadata": {},
   "outputs": [],
   "source": [
    "#connection details\n",
    "\n",
    "conx = {'host':'localhost',\n",
    "       'username':'root',\n",
    "       'password':'',\n",
    "       'db':'classroomdb'}\n",
    "\n",
    "#Connecting to database\n",
    "connection = pymysql.connect(\n",
    "    conx['host'], conx['username'], conx['password'], conx['db'])\n",
    "\n",
    "#close connection\n",
    "connection.close()"
   ]
  },
  {
   "cell_type": "markdown",
   "metadata": {},
   "source": [
    "### create table"
   ]
  },
  {
   "cell_type": "code",
   "execution_count": 15,
   "metadata": {},
   "outputs": [],
   "source": [
    "#Connecting to database\n",
    "connection = pymysql.connect(\n",
    "    conx['host'], conx['username'], conx['password'], conx['db'])\n",
    "#open cursor \n",
    "cursor = connection.cursor()\n",
    "#query for creating table\n",
    "create_table=\"\"\"\n",
    "            CREATE TABLE classroom(\n",
    "            student_id INTEGER PRIMARY KEY,\n",
    "            name VARCHAR(20),\n",
    "            gender CHAR(1),\n",
    "            physics_marks INTEGER,\n",
    "            chemisty_marks INTEGER,\n",
    "            mathematics_marks INTEGER);\n",
    "\"\"\"\n",
    "#execute query\n",
    "cursor.execute(create_table)\n",
    "#commit changes\n",
    "connection.commit()\n",
    "#close connection\n",
    "connection.close()"
   ]
  },
  {
   "cell_type": "markdown",
   "metadata": {},
   "source": [
    "### insert data"
   ]
  },
  {
   "cell_type": "code",
   "execution_count": 17,
   "metadata": {},
   "outputs": [],
   "source": [
    "#sample data\n",
    "classroom_data=[(1, \"Raj\", \"M\", 70, 84, 92),\n",
    "                (2, \"Poonam\", \"F\", 87, 69, 93),\n",
    "                (3, \"Nik\", \"M\", 65, 83, 90),\n",
    "                (4, \"Rahul\", \"F\", 83, 76, 89)]\n",
    "#open connection\n",
    "connection =pymysql.connect(\n",
    "    conx['host'], conx['username'], conx['password'], conx['db'])\n",
    "#open cursor \n",
    "cursor = connection.cursor()\n",
    "#insert each student record\n",
    "for student in classroom_data:\n",
    "    #formatted query string\n",
    "    insert_statement =\"\"\"INSERT INTO classroom\n",
    "                    (student_id, name, gender, physics_marks, chemisty_marks, mathematics_marks)\n",
    "                    VALUES\n",
    "                    ({0}, \"{1}\", \"{2}\", \"{3}\", \"{4}\",\"{5}\");\n",
    "                    \"\"\".format(student[0], student[1], student[2], student[3], student[4], student[5])\n",
    "    #execute insert query\n",
    "    cursor.execute(insert_statement)\n",
    "    \n",
    "#commit changes\n",
    "connection.commit()\n",
    "#close connection\n",
    "connection.close()\n"
   ]
  },
  {
   "cell_type": "markdown",
   "metadata": {},
   "source": [
    "### extract data"
   ]
  },
  {
   "cell_type": "code",
   "execution_count": 18,
   "metadata": {},
   "outputs": [
    {
     "name": "stdout",
     "output_type": "stream",
     "text": [
      "(1, 'Raj', 'M', 70, 84, 92)\n",
      "(2, 'Poonam', 'F', 87, 69, 93)\n",
      "(3, 'Nik', 'M', 65, 83, 90)\n",
      "(4, 'Rahul', 'F', 83, 76, 89)\n"
     ]
    }
   ],
   "source": [
    "#open connection\n",
    "connection = pymysql.connect(\n",
    "    conx['host'], conx['username'], conx['password'], conx['db'])\n",
    "#open cursor \n",
    "cursor = connection.cursor()\n",
    "#query\n",
    "query = \"SELECT * FROM classroom\"\n",
    "#execute query \n",
    "cursor.execute(query)\n",
    "#fetcch results\n",
    "result = cursor.fetchall()\n",
    "#print results\n",
    "for row in result:\n",
    "    print(row)\n",
    "#close connection\n",
    "connection.close()\n"
   ]
  },
  {
   "cell_type": "code",
   "execution_count": null,
   "metadata": {},
   "outputs": [],
   "source": [
    " "
   ]
  }
 ],
 "metadata": {
  "kernelspec": {
   "display_name": "Python 3",
   "language": "python",
   "name": "python3"
  },
  "language_info": {
   "codemirror_mode": {
    "name": "ipython",
    "version": 3
   },
   "file_extension": ".py",
   "mimetype": "text/x-python",
   "name": "python",
   "nbconvert_exporter": "python",
   "pygments_lexer": "ipython3",
   "version": "3.6.5"
  }
 },
 "nbformat": 4,
 "nbformat_minor": 2
}
