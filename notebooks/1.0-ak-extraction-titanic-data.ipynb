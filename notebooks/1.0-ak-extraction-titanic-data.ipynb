{
 "cells": [
  {
   "cell_type": "markdown",
   "metadata": {},
   "source": [
    "# Extraction Titanic Disaster Data from Kaggle"
   ]
  },
  {
   "cell_type": "code",
   "execution_count": 58,
   "metadata": {},
   "outputs": [],
   "source": [
    "import os"
   ]
  },
  {
   "cell_type": "code",
   "execution_count": 59,
   "metadata": {},
   "outputs": [],
   "source": [
    "get_raw_data_script_file=os.path.join(os.path.pardir, 'src','data','get_raw_data.py')"
   ]
  },
  {
   "cell_type": "code",
   "execution_count": 76,
   "metadata": {},
   "outputs": [
    {
     "name": "stdout",
     "output_type": "stream",
     "text": [
      "Overwriting ..\\src\\data\\get_raw_data.py\n"
     ]
    }
   ],
   "source": [
    "%%writefile $get_raw_data_script_file\n",
    "import os\n",
    "from kaggle.api.kaggle_api_extended import KaggleApi\n",
    "import logging\n",
    "\n",
    "def main(poject_dir):\n",
    "    logger = logging.getLogger(__name__)\n",
    "    logger.info('getting raw data')\n",
    "    #imports\n",
    "    os.system(\"kaggle competitions download -c titanic -p ../data/raw\") \n",
    "\n",
    "    from zipfile import ZipFile\n",
    "    raw_data_path = os.path.join(project_dir, 'data', 'raw')\n",
    "    titanic_zip = os.path.join(raw_data_path, 'titanic.zip')\n",
    "    with ZipFile(titanic_zip, 'r') as zf:\n",
    "        zf.extractall(raw_data_path)\n",
    "    logger.info('downloaded raw data and extracted')\n",
    "    \n",
    "if __name__ == '__main__':\n",
    "    #getting root directory\n",
    "    project_dir = os.path.join(os.path.dirname(__file__), os.pardir, os.pardir)\n",
    "    \n",
    "    #setup logger\n",
    "    log_format = '%(asctime)s -%(name)s - %(levelname)s %(message)s'\n",
    "    logging.basicConfig(level=logging.INFO, format=log_format)\n",
    "    \n",
    "    #call the main\n",
    "    main(project_dir)"
   ]
  },
  {
   "cell_type": "code",
   "execution_count": 77,
   "metadata": {},
   "outputs": [
    {
     "name": "stdout",
     "output_type": "stream",
     "text": [
      "titanic.zip: Skipping, found more recently modified local copy (use --force to force download)\n"
     ]
    },
    {
     "name": "stderr",
     "output_type": "stream",
     "text": [
      "2020-04-24 01:53:00,637 -__main__ - INFO getting raw data\n",
      "2020-04-24 01:53:02,479 -__main__ - INFO downloaded raw data and extracted\n"
     ]
    }
   ],
   "source": [
    "!python $get_raw_data_script_file"
   ]
  },
  {
   "cell_type": "code",
   "execution_count": null,
   "metadata": {},
   "outputs": [],
   "source": []
  }
 ],
 "metadata": {
  "kernelspec": {
   "display_name": "Python 3",
   "language": "python",
   "name": "python3"
  },
  "language_info": {
   "codemirror_mode": {
    "name": "ipython",
    "version": 3
   },
   "file_extension": ".py",
   "mimetype": "text/x-python",
   "name": "python",
   "nbconvert_exporter": "python",
   "pygments_lexer": "ipython3",
   "version": "3.6.5"
  }
 },
 "nbformat": 4,
 "nbformat_minor": 2
}
